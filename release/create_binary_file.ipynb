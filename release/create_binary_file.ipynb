{
 "cells": [
  {
   "cell_type": "code",
   "execution_count": 1,
   "metadata": {},
   "outputs": [],
   "source": [
    "import matplotlib.pyplot as plt\n",
    "import numpy as np\n",
    "import struct\n",
    "from protozfits.simple import File\n",
    "from pedestal import PedestalSimple, remove_pedestal\n",
    "from event import Event\n",
    "from tools import plot_hist"
   ]
  },
  {
   "cell_type": "markdown",
   "metadata": {},
   "source": [
    "## Data model\n",
    "|Header|| \n",
    "|------|---------------|\n",
    "|      |number of samples - int|\n",
    "|      |version - char|\n",
    "|Data  |              |\n",
    "|      | HG capacitor 0 - unsigned short|\n",
    "|      | offset 0 unsigned short|\n",
    "|      | HG capacitor 1 - unsigned short|\n",
    "|      | offset 1 unsigned short|\n",
    "|      | ... |\n",
    "|      | ... |\n",
    "|      | HG capacitor 4095 - unsigned short|\n",
    "|      | offset 4095 unsigned short|\n",
    "|---------------------------------------------|\n",
    "|      | LG capacitor 0 - unsigned short|\n",
    "|      | offset 0 unsigned short|\n",
    "|      | LG capacitor 1 - unsigned short|\n",
    "|      | offset 1 unsigned short|\n",
    "|      | ... |\n",
    "|      | ... |\n",
    "|      | LG capacitor 4095 - unsigned short|\n",
    "|      | offset 4095 unsigned short|"
   ]
  },
  {
   "cell_type": "code",
   "execution_count": 2,
   "metadata": {},
   "outputs": [
    {
     "name": "stdout",
     "output_type": "stream",
     "text": [
      "Not enough events. Error:  invalid value encountered in sqrt\n",
      "Finish calcurate pedestal\n"
     ]
    }
   ],
   "source": [
    "N1 = 20000\n",
    "f1 = File(\"../data/Run021.1.fits.fz\")\n",
    "ped = PedestalSimple()\n",
    "for i in range(0, N1):\n",
    "    ev = next(f1.Events)\n",
    "    Ev = Event(ev)\n",
    "    Ev.read()\n",
    "    ped.fill_pedestal_event(Ev)\n",
    "\n",
    "ped.finalize_pedestal()\n",
    "print(\"Finish calcurate pedestal\")"
   ]
  },
  {
   "cell_type": "code",
   "execution_count": 4,
   "metadata": {},
   "outputs": [
    {
     "name": "stdout",
     "output_type": "stream",
     "text": [
      "version:  (b'1',)\n",
      "number samples:  131072\n",
      "0\n",
      "280\n",
      "1\n",
      "261\n",
      "2\n",
      "280\n",
      "3\n",
      "248\n",
      "4\n",
      "282\n",
      "5\n",
      "248\n",
      "6\n",
      "281\n",
      "7\n",
      "262\n",
      "8\n",
      "277\n",
      "9\n",
      "245\n",
      "10\n",
      "299\n",
      "11\n",
      "267\n",
      "12\n",
      "288\n",
      "13\n",
      "247\n",
      "14\n",
      "286\n",
      "15\n",
      "246\n",
      "16\n",
      "288\n",
      "17\n",
      "262\n",
      "18\n",
      "276\n",
      "19\n",
      "250\n",
      "20\n",
      "304\n",
      "21\n",
      "264\n",
      "22\n",
      "270\n",
      "23\n",
      "242\n"
     ]
    }
   ],
   "source": [
    "\n",
    "f_out = open('pedestal_value.dat', 'wb')\n",
    "\n",
    "#header\n",
    "f_out.write(struct.pack('>s', b\"1\")) # version 1\n",
    "f_out.write(struct.pack('>i', 131072)) #number of samples\n",
    "\n",
    "#high gain\n",
    "for i in range(0, 8):\n",
    "    for j, value in enumerate(ped.mean_value_channel_high_gain[i, :]):\n",
    "        f_out.write(struct.pack('>H', j))\n",
    "        f_out.write(struct.pack('>H', int(value)))\n",
    "        \n",
    "# low gain\n",
    "for i in range(0, 8):\n",
    "    for j, value in enumerate(ped.mean_value_channel_low_gain[i, :]):\n",
    "        f_out.write(struct.pack('>H', j))\n",
    "        f_out.write(struct.pack('>H', int(value)))\n",
    "\n",
    "f_out.close()        \n",
    "\n",
    "\n",
    "with open(\"pedestal_value.dat\", \"rb\") as binary_file:\n",
    "    # Read the whole file at once\n",
    "    data = binary_file.read()\n",
    "    \n",
    "    version = struct.unpack(\">s\", data[0:1])\n",
    "    print(\"version: \",version)\n",
    "    number_samples = int.from_bytes(data[1:5], byteorder='big')\n",
    "    print(\"number samples: \",number_samples)\n",
    "    \n",
    "    \n",
    "    for i in range(5, 100, 2):\n",
    "        value = int.from_bytes(data[i:i+2], byteorder='big')\n",
    "        print(value)\n",
    "        "
   ]
  },
  {
   "cell_type": "code",
   "execution_count": null,
   "metadata": {},
   "outputs": [],
   "source": []
  }
 ],
 "metadata": {
  "kernelspec": {
   "display_name": "Python 3",
   "language": "python",
   "name": "python3"
  },
  "language_info": {
   "codemirror_mode": {
    "name": "ipython",
    "version": 3
   },
   "file_extension": ".py",
   "mimetype": "text/x-python",
   "name": "python",
   "nbconvert_exporter": "python",
   "pygments_lexer": "ipython3",
   "version": "3.6.5"
  }
 },
 "nbformat": 4,
 "nbformat_minor": 2
}
