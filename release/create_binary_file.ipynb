{
 "cells": [
  {
   "cell_type": "code",
   "execution_count": 1,
   "metadata": {},
   "outputs": [],
   "source": [
    "import matplotlib.pyplot as plt\n",
    "import numpy as np\n",
    "import struct\n",
    "from protozfits.simple import File\n",
    "from pedestal import PedestalSimple, remove_pedestal\n",
    "from event import Event\n",
    "from tools import plot_hist"
   ]
  },
  {
   "cell_type": "markdown",
   "metadata": {},
   "source": [
    "## Data model\n",
    "|Header|| \n",
    "|------|---------------|\n",
    "|      |version - unsigned char|\n",
    "|      |number of pixels - unsigned short|\n",
    "|      |number of samples - unsigned short|\n",
    "|      |RoI -  \tunsigned short|\n",
    "|Data  |              |\n",
    "|      | CH0 HG offset capacitor 0 - unsigned short|\n",
    "|      | CH0 HG offset capacitor 1 - unsigned short|\n",
    "|      | ... |\n",
    "|      | CH0 HG offset capacitor 4095 - unsigned short|\n",
    "|      | CH1 HG offset capacitor 0 - unsigned short|\n",
    "|      | ... |\n",
    "|      | CH7 HG (DRS _TAG) offset capacitor 4095 - unsigned short|\n",
    "|---------------------------------------------|\n",
    "|      | CH0 LG offset capacitor 0 - unsigned short|\n",
    "|      | CH0 LG offset capacitor 1 - unsigned short|\n",
    "|      | ... |\n",
    "|      | CH0 LG offset capacitor 4095 - unsigned short|\n",
    "|      | CH1 LG offset capacitor 0 - unsigned short|\n",
    "|      | ... |\n",
    "|      | CH7 LG (DRS _TAG) offset capacitor 4095 - unsigned short|"
   ]
  },
  {
   "cell_type": "code",
   "execution_count": 2,
   "metadata": {},
   "outputs": [
    {
     "name": "stdout",
     "output_type": "stream",
     "text": [
      "Not enough events. Error:  invalid value encountered in sqrt\n",
      "Finish calcurate pedestal\n"
     ]
    }
   ],
   "source": [
    "N1 = 20000\n",
    "f1 = File(\"../data/Run021.1.fits.fz\")\n",
    "ped = PedestalSimple()\n",
    "for i in range(0, N1):\n",
    "    ev = next(f1.Events)\n",
    "    Ev = Event(ev)\n",
    "    Ev.read()\n",
    "    ped.fill_pedestal_event(Ev)\n",
    "\n",
    "ped.finalize_pedestal()\n",
    "print(\"Finish calcurate pedestal\")"
   ]
  },
  {
   "cell_type": "code",
   "execution_count": 3,
   "metadata": {},
   "outputs": [
    {
     "name": "stdout",
     "output_type": "stream",
     "text": [
      "version:  (b'\\x01',)\n",
      "number of pixels:  8\n",
      "number of samples:  4096\n",
      "RoI:  40\n",
      "40\n",
      "280\n",
      "261\n",
      "280\n",
      "248\n",
      "282\n",
      "248\n",
      "281\n",
      "262\n",
      "277\n",
      "245\n",
      "299\n",
      "267\n",
      "288\n",
      "247\n",
      "286\n",
      "246\n",
      "288\n",
      "262\n",
      "276\n",
      "250\n",
      "304\n",
      "264\n",
      "270\n",
      "242\n",
      "286\n",
      "261\n",
      "300\n",
      "271\n",
      "283\n",
      "259\n",
      "287\n",
      "253\n",
      "259\n",
      "241\n",
      "262\n",
      "263\n",
      "277\n",
      "264\n",
      "288\n",
      "263\n",
      "267\n",
      "283\n",
      "321\n",
      "257\n",
      "290\n",
      "263\n",
      "280\n"
     ]
    }
   ],
   "source": [
    "\n",
    "f_out = open('pedestal_value.dat', 'wb')\n",
    "\n",
    "#header\n",
    "f_out.write(struct.pack('>B', 1)) # version 1\n",
    "f_out.write(struct.pack('>H', 8)) #number of pixels\n",
    "f_out.write(struct.pack('>H', 4096)) #number of samples\n",
    "f_out.write(struct.pack('>H', 40)) # RoI\n",
    "\n",
    "#high gain\n",
    "for i in range(0, 8):\n",
    "    for value in (ped.mean_value_channel_high_gain[i, :]):\n",
    "        f_out.write(struct.pack('>H', int(value)))\n",
    "        \n",
    "# low gain\n",
    "for i in range(0, 8):\n",
    "    for value in (ped.mean_value_channel_low_gain[i, :]):\n",
    "        f_out.write(struct.pack('>H', int(value)))\n",
    "\n",
    "f_out.close()        \n",
    "\n",
    "\n",
    "with open(\"pedestal_value.dat\", \"rb\") as binary_file:\n",
    "    # Read the whole file at once\n",
    "    data = binary_file.read()\n",
    "    \n",
    "    version = struct.unpack(\">s\", data[0:1])\n",
    "    print(\"version: \",version)\n",
    "    number_pixels = int.from_bytes(data[1:3], byteorder='big')\n",
    "    print(\"number of pixels: \",number_pixels)\n",
    "    number_samples = int.from_bytes(data[3:5], byteorder='big')\n",
    "    print(\"number of samples: \",number_samples)\n",
    "    RoI = int.from_bytes(data[5:7], byteorder='big')\n",
    "    print(\"RoI: \", RoI)\n",
    "    \n",
    "    for i in range(5, 100, 2):\n",
    "        value = int.from_bytes(data[i:i+2], byteorder='big')\n",
    "        print(value)\n",
    "        "
   ]
  },
  {
   "cell_type": "code",
   "execution_count": null,
   "metadata": {},
   "outputs": [],
   "source": []
  },
  {
   "cell_type": "code",
   "execution_count": null,
   "metadata": {},
   "outputs": [],
   "source": []
  }
 ],
 "metadata": {
  "kernelspec": {
   "display_name": "Python 3",
   "language": "python",
   "name": "python3"
  },
  "language_info": {
   "codemirror_mode": {
    "name": "ipython",
    "version": 3
   },
   "file_extension": ".py",
   "mimetype": "text/x-python",
   "name": "python",
   "nbconvert_exporter": "python",
   "pygments_lexer": "ipython3",
   "version": "3.6.5"
  }
 },
 "nbformat": 4,
 "nbformat_minor": 2
}
