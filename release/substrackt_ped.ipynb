{
 "cells": [
  {
   "cell_type": "code",
   "execution_count": 1,
   "metadata": {},
   "outputs": [],
   "source": [
    "import matplotlib.pyplot as plt\n",
    "import numpy as np\n",
    "from protozfits.simple import File\n",
    "from pedestal import PedestalSimple, remove_pedestal\n",
    "from event import Event\n",
    "from tools import plot_hist"
   ]
  },
  {
   "cell_type": "markdown",
   "metadata": {},
   "source": [
    "## Calibration with file \"Run021.1.fits.fz\""
   ]
  },
  {
   "cell_type": "code",
   "execution_count": 2,
   "metadata": {},
   "outputs": [
    {
     "name": "stdout",
     "output_type": "stream",
     "text": [
      "Finish calcurate pedestal\n"
     ]
    }
   ],
   "source": [
    "N1 = 40000\n",
    "f1 = File(\"../data/Run021.1.fits.fz\")\n",
    "ped = PedestalSimple()\n",
    "for i in range(0, N1):\n",
    "    ev = next(f1.Events)\n",
    "    Ev = Event(ev)\n",
    "    Ev.read()\n",
    "    ped.fill_pedestal_event(Ev)\n",
    "\n",
    "ped.finalize_pedestal()\n",
    "print(\"Finish calcurate pedestal\")"
   ]
  },
  {
   "cell_type": "markdown",
   "metadata": {},
   "source": [
    "## Substract pedestal for \"Run026.1.fits.fz\""
   ]
  },
  {
   "cell_type": "code",
   "execution_count": 5,
   "metadata": {},
   "outputs": [],
   "source": [
    "f2 = File(\"../data/Run026.1.fits.fz\")\n",
    "N2 = 4000\n",
    "event_hi_gain_before_remove_pedestal = np.zeros((N2, 8, 40))\n",
    "event_hi_gain_after_remove_pedestal = np.zeros((N2, 8, 40))\n",
    "event_low_gain_before_remove_pedestal = np.zeros((N2, 8, 40))\n",
    "event_low_gain_after_remove_pedestal = np.zeros((N2, 8, 40))\n",
    "\n",
    "for i in range(0, N2):\n",
    "    ev = next(f2.Events)\n",
    "    Ev = Event(ev)\n",
    "    Ev.read()\n",
    "    event_hi_gain_before_remove_pedestal[i, :, :] = Ev.samples_high_gain\n",
    "    event_low_gain_before_remove_pedestal[i, :, :] = Ev.samples_low_gain\n",
    "    remove_pedestal(Ev, ped)\n",
    "    event_hi_gain_after_remove_pedestal[i, :, :] = Ev.samples_high_gain\n",
    "    event_low_gain_after_remove_pedestal[i, :, :] = Ev.samples_low_gain\n",
    "\n",
    "%matplotlib qt\n",
    "plt.rcParams.update({'font.size': 18})\n",
    "plt.rcParams['figure.figsize'] = [10, 5]\n",
    "plot_hist(event_hi_gain_before_remove_pedestal, \"Hi Gain\")\n",
    "plot_hist(event_hi_gain_after_remove_pedestal, \"Hi Gain\")\n",
    "plot_hist(event_low_gain_before_remove_pedestal, \"Low Gain\")\n",
    "plot_hist(event_low_gain_after_remove_pedestal, \"Low Gain\")\n",
    "plt.show()"
   ]
  },
  {
   "cell_type": "markdown",
   "metadata": {},
   "source": [
    "## Substract pedestal for \"Run027.1.fits.fz\""
   ]
  },
  {
   "cell_type": "code",
   "execution_count": 3,
   "metadata": {},
   "outputs": [],
   "source": [
    "f3 = File(\"../data/Run027.1.fits.fz\")\n",
    "N3 = 10000\n",
    "event_hi_gain_before_remove_pedestal = np.zeros((N3, 8, 40))\n",
    "event_hi_gain_after_remove_pedestal = np.zeros((N3, 8, 40))\n",
    "event_low_gain_before_remove_pedestal = np.zeros((N3, 8, 40))\n",
    "event_low_gain_after_remove_pedestal = np.zeros((N3, 8, 40))\n",
    "\n",
    "for i in range(0, N3):\n",
    "    ev = next(f3.Events)\n",
    "    Ev = Event(ev)\n",
    "    Ev.read()\n",
    "    event_hi_gain_before_remove_pedestal[i, :, :] = Ev.samples_high_gain\n",
    "    event_low_gain_before_remove_pedestal[i, :, :] = Ev.samples_low_gain\n",
    "    remove_pedestal(Ev, ped)\n",
    "    event_hi_gain_after_remove_pedestal[i, :, :] = Ev.samples_high_gain\n",
    "    event_low_gain_after_remove_pedestal[i, :, :] = Ev.samples_low_gain\n",
    "\n",
    "%matplotlib qt\n",
    "plt.rcParams.update({'font.size': 18})\n",
    "plt.rcParams['figure.figsize'] = [10, 5]\n",
    "plot_hist(event_hi_gain_before_remove_pedestal, \"Hi Gain\")\n",
    "plot_hist(event_hi_gain_after_remove_pedestal, \"Hi Gain\")\n",
    "plot_hist(event_low_gain_before_remove_pedestal, \"Low Gain\")\n",
    "plot_hist(event_low_gain_after_remove_pedestal, \"Low Gain\")\n",
    "plt.show()"
   ]
  },
  {
   "cell_type": "markdown",
   "metadata": {},
   "source": [
    "## Plot for CH 1 Hi Gain"
   ]
  },
  {
   "cell_type": "code",
   "execution_count": 28,
   "metadata": {},
   "outputs": [],
   "source": [
    "%matplotlib qt\n",
    "plt.rcParams.update({'font.size': 32})\n",
    "fig, (ax0, ax1) = plt.subplots(ncols = 2)\n",
    "\n",
    "sigma_before = np.std(event_hi_gain_before_remove_pedestal[:, 0, 2:38].ravel())\n",
    "mu_before = np.mean(event_hi_gain_before_remove_pedestal[:, 0, 2:38].ravel())\n",
    "ax0.hist(event_hi_gain_before_remove_pedestal[:, 0, 2:38].ravel(), bins=50)\n",
    "ax0.set_xlabel(\"signal [counts]\")\n",
    "ax0.set_ylabel(\"number of events\")\n",
    "ax0.set_title(\"Before\")\n",
    "textstr = '$\\mu=%.2f$\\n $\\sigma=%.2f$' % (mu_before, sigma_before)\n",
    "props = dict(boxstyle='round', facecolor='wheat', alpha=0.5)\n",
    "ax0.text(0.05, 0.95, textstr, transform=ax0.transAxes, fontsize=32, verticalalignment='top', bbox=props)\n",
    "ax0.set_xlim([195, 405])\n",
    "ax0.grid()\n",
    "\n",
    "sigma_after = np.std(event_hi_gain_after_remove_pedestal[:, 0, 2:38].ravel())\n",
    "mu_after = np.mean(event_hi_gain_after_remove_pedestal[:, 0, 2:38].ravel())\n",
    "ax1.hist(event_hi_gain_after_remove_pedestal[:, 0, 2:38].ravel(), bins=50)\n",
    "ax1.set_xlabel(\"signal [counts]\")\n",
    "ax1.set_ylabel(\"number of events\")\n",
    "ax1.set_title(\"After\")\n",
    "textstr = '$\\mu=%.2f$\\n $\\sigma=%.2f$' % (mu_after, sigma_after)\n",
    "props = dict(boxstyle='round', facecolor='wheat', alpha=0.5)\n",
    "ax1.text(0.05, 0.95, textstr, transform=ax1.transAxes, fontsize=32, verticalalignment='top', bbox=props)\n",
    "ax1.set_xlim([-105, 105])\n",
    "ax1.grid()\n",
    "plt.show()"
   ]
  },
  {
   "cell_type": "code",
   "execution_count": 27,
   "metadata": {},
   "outputs": [],
   "source": [
    "%matplotlib qt\n",
    "plt.rcParams.update({'font.size': 32})\n",
    "\n",
    "fig, (ax0, ax1) = plt.subplots(nrows = 2)\n",
    "\n",
    "ax0.plot(event_hi_gain_before_remove_pedestal[3, 0, 0:40], 'b-', lw=3)\n",
    "ax0.set_ylabel(\"signal [counts]\")\n",
    "ax0.set_xlabel(\"time sample [ns]\")\n",
    "ax0.axhline(color='k', lw=1)\n",
    "ax0.set_ylim([-80, 500])\n",
    "ax0.grid()\n",
    "\n",
    "ax1.plot(event_hi_gain_after_remove_pedestal[3, 0, 0:40], 'b-', lw=3)\n",
    "ax1.set_ylabel(\"signal [counts]\")\n",
    "ax1.set_xlabel(\"time sample [ns]\")\n",
    "ax1.set_ylim([-80, 500])\n",
    "ax1.axhline(color='k', lw=1)\n",
    "plt.grid(True)\n",
    "plt.show()"
   ]
  },
  {
   "cell_type": "code",
   "execution_count": null,
   "metadata": {},
   "outputs": [],
   "source": []
  }
 ],
 "metadata": {
  "kernelspec": {
   "display_name": "Python 3",
   "language": "python",
   "name": "python3"
  },
  "language_info": {
   "codemirror_mode": {
    "name": "ipython",
    "version": 3
   },
   "file_extension": ".py",
   "mimetype": "text/x-python",
   "name": "python",
   "nbconvert_exporter": "python",
   "pygments_lexer": "ipython3",
   "version": "3.6.4"
  }
 },
 "nbformat": 4,
 "nbformat_minor": 2
}
